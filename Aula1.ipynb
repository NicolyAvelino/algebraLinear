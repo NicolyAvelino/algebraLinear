{
  "nbformat": 4,
  "nbformat_minor": 0,
  "metadata": {
    "colab": {
      "provenance": [],
      "include_colab_link": true
    },
    "kernelspec": {
      "name": "python3",
      "display_name": "Python 3"
    },
    "language_info": {
      "name": "python"
    }
  },
  "cells": [
    {
      "cell_type": "markdown",
      "metadata": {
        "id": "view-in-github",
        "colab_type": "text"
      },
      "source": [
        "<a href=\"https://colab.research.google.com/github/NicolyAvelino/algebraLinear/blob/main/Aula1.ipynb\" target=\"_parent\"><img src=\"https://colab.research.google.com/assets/colab-badge.svg\" alt=\"Open In Colab\"/></a>"
      ]
    },
    {
      "cell_type": "markdown",
      "source": [
        "# Aula 1 - Conceitos Iniciais"
      ],
      "metadata": {
        "id": "rLVnk2u9VEKq"
      }
    },
    {
      "cell_type": "markdown",
      "source": [
        "## Operações básicas"
      ],
      "metadata": {
        "id": "95L9yUUIZkuF"
      }
    },
    {
      "cell_type": "markdown",
      "source": [
        "Exercícios:\n",
        "Calcule\n",
        "\n",
        " - $2 - 4$\n",
        " - $2^2 + 3$\n",
        " - $\\frac{2^5 - 7}{-5}$\n",
        " -$2\\times(4 - \\frac{1}{2})$"
      ],
      "metadata": {
        "id": "bHdIp_SnpBl8"
      }
    },
    {
      "cell_type": "code",
      "source": [
        "print(2-4)"
      ],
      "metadata": {
        "colab": {
          "base_uri": "https://localhost:8080/"
        },
        "id": "H4zF5cCXRi1I",
        "outputId": "55c63e20-004f-4621-cd25-f59ed251a767"
      },
      "execution_count": null,
      "outputs": [
        {
          "output_type": "stream",
          "name": "stdout",
          "text": [
            "-2\n"
          ]
        }
      ]
    },
    {
      "cell_type": "code",
      "source": [
        "print(2**2 +3)"
      ],
      "metadata": {
        "colab": {
          "base_uri": "https://localhost:8080/"
        },
        "id": "DmuyKlRXRn4g",
        "outputId": "2873d7ff-aac6-4f71-8a5e-6c51d185eec3"
      },
      "execution_count": null,
      "outputs": [
        {
          "output_type": "stream",
          "name": "stdout",
          "text": [
            "7\n"
          ]
        }
      ]
    },
    {
      "cell_type": "code",
      "source": [
        "print((2**5 -7)/-5)"
      ],
      "metadata": {
        "colab": {
          "base_uri": "https://localhost:8080/"
        },
        "id": "4WcUPUanRw8G",
        "outputId": "284dec40-3373-4b87-a323-5fd4a55f1ef3"
      },
      "execution_count": null,
      "outputs": [
        {
          "output_type": "stream",
          "name": "stdout",
          "text": [
            "-5.0\n"
          ]
        }
      ]
    },
    {
      "cell_type": "code",
      "source": [
        "print(2*(4 - 0.5))"
      ],
      "metadata": {
        "colab": {
          "base_uri": "https://localhost:8080/"
        },
        "id": "ADq4P4x4SAvc",
        "outputId": "17f5898f-eda7-4dc9-8d5c-f8156482a27c"
      },
      "execution_count": null,
      "outputs": [
        {
          "output_type": "stream",
          "name": "stdout",
          "text": [
            "7.0\n"
          ]
        }
      ]
    },
    {
      "cell_type": "code",
      "source": [
        "print(2*(4 - 1/2))"
      ],
      "metadata": {
        "colab": {
          "base_uri": "https://localhost:8080/"
        },
        "id": "F4CA1-cdSKqO",
        "outputId": "4653dc17-4597-4aa3-ebbc-4c5f3913ced0"
      },
      "execution_count": null,
      "outputs": [
        {
          "output_type": "stream",
          "name": "stdout",
          "text": [
            "7.0\n"
          ]
        }
      ]
    },
    {
      "cell_type": "markdown",
      "source": [
        "## Print"
      ],
      "metadata": {
        "id": "9ZZW4HjXZrMz"
      }
    },
    {
      "cell_type": "code",
      "source": [
        "print('Teste')"
      ],
      "metadata": {
        "colab": {
          "base_uri": "https://localhost:8080/"
        },
        "id": "T9GxRQ2ZZKY2",
        "outputId": "178dfb2d-a9ed-4115-bfa2-feb0ab947f8c"
      },
      "execution_count": null,
      "outputs": [
        {
          "output_type": "stream",
          "name": "stdout",
          "text": [
            "Teste\n"
          ]
        }
      ]
    },
    {
      "cell_type": "markdown",
      "source": [
        "## Variáveis"
      ],
      "metadata": {
        "id": "mWS1UxS5ZzpM"
      }
    },
    {
      "cell_type": "code",
      "source": [
        "a = 1"
      ],
      "metadata": {
        "id": "e0TWNkB6Zewo"
      },
      "execution_count": null,
      "outputs": []
    },
    {
      "cell_type": "code",
      "source": [
        "type(a)"
      ],
      "metadata": {
        "colab": {
          "base_uri": "https://localhost:8080/"
        },
        "id": "qgAK5fyAZ9CR",
        "outputId": "51f0525c-5e8b-4b14-e352-75574f13d25d"
      },
      "execution_count": null,
      "outputs": [
        {
          "output_type": "execute_result",
          "data": {
            "text/plain": [
              "int"
            ]
          },
          "metadata": {},
          "execution_count": 11
        }
      ]
    },
    {
      "cell_type": "code",
      "source": [
        "b = 0.1"
      ],
      "metadata": {
        "id": "v64X1OdzZ-a4"
      },
      "execution_count": null,
      "outputs": []
    },
    {
      "cell_type": "code",
      "source": [
        "type(b)"
      ],
      "metadata": {
        "colab": {
          "base_uri": "https://localhost:8080/"
        },
        "id": "5UmR9dpyaAfV",
        "outputId": "854a523d-ce2e-4dc0-b421-3cf1d2800d84"
      },
      "execution_count": null,
      "outputs": [
        {
          "output_type": "execute_result",
          "data": {
            "text/plain": [
              "float"
            ]
          },
          "metadata": {},
          "execution_count": 13
        }
      ]
    },
    {
      "cell_type": "code",
      "source": [
        "c = True"
      ],
      "metadata": {
        "id": "jkwp7xWjaB6K"
      },
      "execution_count": null,
      "outputs": []
    },
    {
      "cell_type": "code",
      "source": [
        "type(c)"
      ],
      "metadata": {
        "colab": {
          "base_uri": "https://localhost:8080/"
        },
        "id": "E4mTmdsdaEHI",
        "outputId": "278c2ab2-fbed-434c-9991-51cfc55e4620"
      },
      "execution_count": null,
      "outputs": [
        {
          "output_type": "execute_result",
          "data": {
            "text/plain": [
              "bool"
            ]
          },
          "metadata": {},
          "execution_count": 16
        }
      ]
    },
    {
      "cell_type": "code",
      "source": [
        "int(a)"
      ],
      "metadata": {
        "colab": {
          "base_uri": "https://localhost:8080/"
        },
        "id": "tl2YQGmCaVWz",
        "outputId": "0f304232-de5a-4a0e-dde0-7cb89d04ffbe"
      },
      "execution_count": null,
      "outputs": [
        {
          "output_type": "execute_result",
          "data": {
            "text/plain": [
              "25"
            ]
          },
          "metadata": {},
          "execution_count": 20
        }
      ]
    },
    {
      "cell_type": "markdown",
      "source": [
        "## Input (Usuário)"
      ],
      "metadata": {
        "id": "-rzAbDNjpaos"
      }
    },
    {
      "cell_type": "code",
      "source": [
        "a = input('Digite um valor ')"
      ],
      "metadata": {
        "colab": {
          "base_uri": "https://localhost:8080/"
        },
        "id": "TiYRXKpWphFF",
        "outputId": "8341a548-e62b-40d2-dc19-9cb5806a2368"
      },
      "execution_count": null,
      "outputs": [
        {
          "name": "stdout",
          "output_type": "stream",
          "text": [
            "Digite um valor 2\n"
          ]
        }
      ]
    },
    {
      "cell_type": "code",
      "source": [
        "a"
      ],
      "metadata": {
        "colab": {
          "base_uri": "https://localhost:8080/",
          "height": 36
        },
        "id": "bMrqqHgqp0-Q",
        "outputId": "1ea37f2d-c4c7-464e-b561-c1067c5febd1"
      },
      "execution_count": null,
      "outputs": [
        {
          "output_type": "execute_result",
          "data": {
            "text/plain": [
              "'2'"
            ],
            "application/vnd.google.colaboratory.intrinsic+json": {
              "type": "string"
            }
          },
          "metadata": {},
          "execution_count": 13
        }
      ]
    },
    {
      "cell_type": "markdown",
      "source": [
        "## Comando If-Else\n",
        "\n",
        "- Comparadores:\n",
        "- == 'Igual a '\n",
        "- != 'Diferente de '"
      ],
      "metadata": {
        "id": "HogVY4P3azLj"
      }
    },
    {
      "cell_type": "code",
      "source": [
        "a = True\n",
        "if a:\n",
        "  print('Verdadeiro')\n",
        "else:\n",
        "  print('Falso')\n"
      ],
      "metadata": {
        "colab": {
          "base_uri": "https://localhost:8080/"
        },
        "id": "qsWqVecsa51t",
        "outputId": "7a6f5aac-6069-4779-e3c8-c703eb7aca6b"
      },
      "execution_count": null,
      "outputs": [
        {
          "output_type": "stream",
          "name": "stdout",
          "text": [
            "Verdadeiro\n"
          ]
        }
      ]
    },
    {
      "cell_type": "markdown",
      "source": [
        "Exercício:\n",
        " - Solicite ao usuário que entre com sua idade.\n",
        " - Verifique se a pessoa é maior de idade.\n",
        " - Imprima o resutlado."
      ],
      "metadata": {
        "id": "PBHiGwHxqNE-"
      }
    },
    {
      "cell_type": "code",
      "source": [
        "idade = int(input(\"Entre com a sua idade: \"))\n",
        "if idade >= 18:\n",
        "  print(\"Maior de Idade\")\n",
        "else:\n",
        "  print(\"Menor de Idade\")"
      ],
      "metadata": {
        "colab": {
          "base_uri": "https://localhost:8080/"
        },
        "id": "aukMcWrTSiHO",
        "outputId": "2f4280a5-1cb0-4715-a622-3acce43fa28d"
      },
      "execution_count": null,
      "outputs": [
        {
          "output_type": "stream",
          "name": "stdout",
          "text": [
            "Entre com a sua idade: 15\n",
            "Menor de Idade\n"
          ]
        }
      ]
    },
    {
      "cell_type": "markdown",
      "source": [
        "## Comando while (laço)\n",
        "\n"
      ],
      "metadata": {
        "id": "dr_yGc4qqg3a"
      }
    },
    {
      "cell_type": "code",
      "source": [
        "i = 0\n",
        "while(i<10):\n",
        "  i = i + 1\n",
        "  print(i)"
      ],
      "metadata": {
        "colab": {
          "base_uri": "https://localhost:8080/"
        },
        "id": "c9-bxx4Vqaqo",
        "outputId": "56f5cbe8-e5a6-4e80-e41a-3c5732a0ac93"
      },
      "execution_count": null,
      "outputs": [
        {
          "output_type": "stream",
          "name": "stdout",
          "text": [
            "1\n",
            "2\n",
            "3\n",
            "4\n",
            "5\n",
            "6\n",
            "7\n",
            "8\n",
            "9\n",
            "10\n"
          ]
        }
      ]
    },
    {
      "cell_type": "code",
      "source": [],
      "metadata": {
        "id": "Aa5vfHtWq8bs"
      },
      "execution_count": null,
      "outputs": []
    },
    {
      "cell_type": "markdown",
      "source": [
        "Exercício: Calcule o fatorial de um número.\n",
        "\n",
        " - Solicite que o usuário entre com um número.\n",
        " - Calcule o fatorial desse número."
      ],
      "metadata": {
        "id": "0Rb9LA0MrBAc"
      }
    },
    {
      "cell_type": "code",
      "source": [
        "numero = int(input(\"Fatorial de: \") )\n",
        "\n",
        "resultado=1\n",
        "count=1\n",
        "\n",
        "while count <= numero:\n",
        "    resultado *= count\n",
        "    count += 1\n",
        "\n",
        "print(resultado)"
      ],
      "metadata": {
        "colab": {
          "base_uri": "https://localhost:8080/"
        },
        "id": "rbP_E1gxW4sO",
        "outputId": "b9e4dd3f-f2a9-41b9-bff7-32048da7d1ca"
      },
      "execution_count": null,
      "outputs": [
        {
          "output_type": "stream",
          "name": "stdout",
          "text": [
            "Fatorial de: 4\n",
            "24\n"
          ]
        }
      ]
    },
    {
      "cell_type": "markdown",
      "source": [
        "Exercício: Faça uma calculadora simples de dois números.\n",
        " - Solicite que o usuário escolha uma operação - Soma, Subtração, Multiplicação ou Divisão.\n",
        " - Solicite que o usuário entre com dois números.\n",
        " - Realize a operação e imprima o valor.\n",
        " - Solicite que o usuário informe se deseja fazer outra operação (ou encerrar)\n",
        "\n",
        " - Melhorias: No caso de divisão, informar valor diferente de zero"
      ],
      "metadata": {
        "id": "rVbJJFWNrNoQ"
      }
    },
    {
      "cell_type": "code",
      "source": [
        "while True:\n",
        "\n",
        "  n1 = float(input(\"N1: \") )\n",
        "  n2 = float(input(\"N2: \") )\n",
        "  print(\"\"\"\n",
        "      Código da operação\n",
        "      subtração     ->     1\n",
        "      adição        ->     2\n",
        "      divisão       ->     3\n",
        "      multiplicação ->     4\n",
        "  \"\"\")\n",
        "\n",
        "  operacao = int(input())\n",
        "\n",
        "  if operacao == 1:\n",
        "    print(n1-n2)\n",
        "  elif operacao == 2:\n",
        "    print(n1+n2)\n",
        "  elif operacao == 3:\n",
        "    if n2 == 0:\n",
        "      print(\"nao faz divisao por zero\")\n",
        "    else:\n",
        "      print(n1/n2)\n",
        "  elif operacao == 4:\n",
        "    print(n1*n2)\n",
        "  else:\n",
        "    print(\"codigo invalido\")\n",
        "\n",
        "  if input(\"Reiniciar (digite R) ou sair (digite S)\" ) not in (\"R\", \"r\"):\n",
        "        break"
      ],
      "metadata": {
        "id": "yl6tVvGybBim"
      },
      "execution_count": null,
      "outputs": []
    },
    {
      "cell_type": "markdown",
      "source": [
        "# Solução de Equações do Primeiro Grau\n",
        "\n",
        "Toda equação do primeiro grau pode ser escrita da forma:\n",
        "$$ax + b = 0$$\n",
        "com $a\\neq 0$ e tem solução da forma \n",
        "$$x = \\frac{-b}{a}$$\n",
        "\n",
        "Exemplo de implementação de solução:"
      ],
      "metadata": {
        "id": "dHOVcxoEwYLS"
      }
    },
    {
      "cell_type": "code",
      "source": [
        "a = input('Digite o valor de a ')"
      ],
      "metadata": {
        "colab": {
          "base_uri": "https://localhost:8080/"
        },
        "id": "vdFI-vWKrsCP",
        "outputId": "d93fc638-1db4-47ed-d481-1a0bd6104418"
      },
      "execution_count": null,
      "outputs": [
        {
          "name": "stdout",
          "output_type": "stream",
          "text": [
            "Digite o valor de a 2\n"
          ]
        }
      ]
    },
    {
      "cell_type": "code",
      "source": [
        "b = input('Digite o valor de b ')"
      ],
      "metadata": {
        "colab": {
          "base_uri": "https://localhost:8080/"
        },
        "id": "dxp9UVXHwymI",
        "outputId": "2900f728-0df4-48ae-bc7f-f8f1126ffe55"
      },
      "execution_count": null,
      "outputs": [
        {
          "name": "stdout",
          "output_type": "stream",
          "text": [
            "Digite o valor de b 3\n"
          ]
        }
      ]
    },
    {
      "cell_type": "code",
      "source": [
        "resultado = -float(b)/float(a)"
      ],
      "metadata": {
        "id": "Tx51wCjdw05Z"
      },
      "execution_count": null,
      "outputs": []
    },
    {
      "cell_type": "code",
      "source": [
        "print('O resultado é ', resultado)"
      ],
      "metadata": {
        "colab": {
          "base_uri": "https://localhost:8080/"
        },
        "id": "osxr_10gxFie",
        "outputId": "ee9f615f-c6b0-4e04-88a3-140875a9f9ee"
      },
      "execution_count": null,
      "outputs": [
        {
          "output_type": "stream",
          "name": "stdout",
          "text": [
            "O resultado é  -1.5\n"
          ]
        }
      ]
    },
    {
      "cell_type": "code",
      "source": [],
      "metadata": {
        "id": "CZy_a9CvxIrW"
      },
      "execution_count": null,
      "outputs": []
    },
    {
      "cell_type": "markdown",
      "source": [
        "# Soluções de Equações do Segundo Grau\n",
        "\n",
        "Toda equação do Segundo grau tem a expressão da forma\n",
        "$$ax^2 + bc + c = 0$$\n",
        "com $a\\neq 0$. As soluções são dadas por\n",
        "\n",
        "$$\\Delta = b^2 - 4ac$$\n",
        "$$x_1 = \\frac{-b + \\sqrt{\\Delta}}{4a}$$\n",
        "e\n",
        "$$x_2 = \\frac{-b - \\sqrt{\\Delta}}{4a}$$"
      ],
      "metadata": {
        "id": "KGbmz05hyGUP"
      }
    },
    {
      "cell_type": "markdown",
      "source": [
        "## Exercício:\n",
        "Escreva uma implementação para a solução de equações de segundo grau"
      ],
      "metadata": {
        "id": "rZSHsGHNymDL"
      }
    },
    {
      "cell_type": "code",
      "source": [
        "A, B, C = map(float,input(\"Digite valor de A, B e C \").split(\" \"))\n",
        "delta = (B**2) -4 * A * C\n",
        "print(delta)\n",
        "if A == 0:\n",
        "    print(\"Impossivel calcular\")\n",
        "elif delta < 0:\n",
        "    print(\"Impossivel calcular\")\n",
        "else:\n",
        "    R1 = (-B + delta**(1/2))/(2*A)\n",
        "    R2 = (-B - delta**(1/2))/(2*A)\n",
        "    print(\"R1 = %.2f\" %R1)\n",
        "    print(\"R2 = %.2f\" %R2)"
      ],
      "metadata": {
        "id": "7lVMdgSsyHvQ",
        "colab": {
          "base_uri": "https://localhost:8080/"
        },
        "outputId": "b6430d26-ad43-4900-fe77-51ebcb09ade8"
      },
      "execution_count": null,
      "outputs": [
        {
          "output_type": "stream",
          "name": "stdout",
          "text": [
            "Digite valor de A, B e C 3 0 -27\n",
            "324.0\n",
            "R1 = 3.00\n",
            "R2 = -3.00\n"
          ]
        }
      ]
    }
  ]
}