{
  "cells": [
    {
      "cell_type": "markdown",
      "metadata": {
        "id": "view-in-github",
        "colab_type": "text"
      },
      "source": [
        "<a href=\"https://colab.research.google.com/github/NicolyAvelino/algebraLinear/blob/main/Aula3_(3).ipynb\" target=\"_parent\"><img src=\"https://colab.research.google.com/assets/colab-badge.svg\" alt=\"Open In Colab\"/></a>"
      ]
    },
    {
      "cell_type": "code",
      "execution_count": null,
      "id": "4c434c51-96e7-4e37-8363-316ee858dcf1",
      "metadata": {
        "id": "4c434c51-96e7-4e37-8363-316ee858dcf1"
      },
      "outputs": [],
      "source": [
        "import numpy as np\n",
        "import networkx as nx\n",
        "\n",
        "def create_random_adj(size_n):\n",
        "    A = np.random.choice([0,1,2], size=(size_n,size_n), replace=True, p=None)\n",
        "    for i in np.arange(0, size_n):\n",
        "        A[i,i] = 0\n",
        "    return A\n",
        "\n",
        "#pip install networkx\n",
        "def show_grafo(A):\n",
        "    n = A.shape[0]\n",
        "    G = nx.MultiDiGraph()\n",
        "    for i in np.arange(0, n):\n",
        "        for j in np.arange(0, n):\n",
        "            if A[i,j]>0:\n",
        "                for k in np.arange(0, A[i,j]):\n",
        "                    G.add_edge(i, j)\n",
        "    nx.draw(G, with_labels=True)\n",
        "    "
      ]
    },
    {
      "cell_type": "markdown",
      "id": "4651b569-9656-4aff-8ca4-2bef9554ebf7",
      "metadata": {
        "id": "4651b569-9656-4aff-8ca4-2bef9554ebf7"
      },
      "source": [
        "# Aula 3 - Grafos e Rank de páginas"
      ]
    },
    {
      "cell_type": "markdown",
      "id": "a1fb0bbd-8d5e-440a-8536-4d5b2ec93bee",
      "metadata": {
        "id": "a1fb0bbd-8d5e-440a-8536-4d5b2ec93bee"
      },
      "source": [
        "## Identificação:\n",
        "\n",
        " - Nome 1 : Carolina Nascimento Silva\n",
        "\n",
        " - Nome 2 : Nicoly de Oliveira Avelino\n"
      ]
    },
    {
      "cell_type": "code",
      "execution_count": null,
      "id": "9e47986d-d646-4938-abf6-9f81c5470686",
      "metadata": {
        "tags": [],
        "id": "9e47986d-d646-4938-abf6-9f81c5470686"
      },
      "outputs": [],
      "source": [
        "import numpy as np"
      ]
    },
    {
      "cell_type": "markdown",
      "id": "cbc4574f-0f99-4935-99db-c5d3141c3f6a",
      "metadata": {
        "id": "cbc4574f-0f99-4935-99db-c5d3141c3f6a"
      },
      "source": [
        "## Multiplicação de Matrizes\n",
        "\n",
        "Dados duas matrizes $A = (a_{i,j})$ de dimensão $n\\times p$ e $B = (b_{i,j})$ de dimensão $p\\times m$, o produto de $A$ por $B$ é a matriz $C = (c_{i,j})$ de dimensão $n\\times m$ tal que\n",
        "$$c_{i,j} = \\sum_{k=1}^p a_{i,k}b_{k, j}$$"
      ]
    },
    {
      "cell_type": "markdown",
      "source": [
        "# EXEMPLO DE SOMA:"
      ],
      "metadata": {
        "id": "Pg17-VSyieCB"
      },
      "id": "Pg17-VSyieCB"
    },
    {
      "cell_type": "code",
      "source": [
        "import numpy as np\n",
        "\n",
        "A = np.array([\n",
        "    [1, 0],\n",
        "    [1, 1]\n",
        "])\n",
        "\n",
        "B = np.array([\n",
        "    [0, 1],\n",
        "    [1, 2]\n",
        "])\n",
        "\n",
        "def Soma(A,B):\n",
        "  C = np.empty(shape= A.shape)\n",
        "  i=0\n",
        "  while(i<A.shape[0]):\n",
        "    j = 0\n",
        "    while(j<A.shape[0]):\n",
        "      C[i,j] = A[i,j] + B [i,j]\n",
        "      j = j+1\n",
        "    i = i +1\n",
        "  return C   \n",
        "\n",
        "\n",
        "Soma(A,B)"
      ],
      "metadata": {
        "colab": {
          "base_uri": "https://localhost:8080/"
        },
        "id": "3GQMXnfygsAY",
        "outputId": "981496f5-c99a-41f3-e3ab-d2db136b2e3a"
      },
      "id": "3GQMXnfygsAY",
      "execution_count": 32,
      "outputs": [
        {
          "output_type": "execute_result",
          "data": {
            "text/plain": [
              "array([[1., 1.],\n",
              "       [2., 3.]])"
            ]
          },
          "metadata": {},
          "execution_count": 32
        }
      ]
    },
    {
      "cell_type": "markdown",
      "id": "2b96baea-6255-4c05-899a-beac4e63d1e0",
      "metadata": {
        "id": "2b96baea-6255-4c05-899a-beac4e63d1e0"
      },
      "source": [
        "## Exercício 1 :\n",
        "\n",
        "- Escreva uma função que recebe duas matrizes $A$ e $B$ e realiza o produto $A\\times B$"
      ]
    },
    {
      "cell_type": "code",
      "execution_count": 31,
      "id": "44418355-362a-4505-ac1e-4f3641b708aa",
      "metadata": {
        "id": "44418355-362a-4505-ac1e-4f3641b708aa",
        "colab": {
          "base_uri": "https://localhost:8080/"
        },
        "outputId": "9d1354cd-7c6f-4410-969a-02e2dd339261"
      },
      "outputs": [
        {
          "output_type": "execute_result",
          "data": {
            "text/plain": [
              "array([[0., 1.],\n",
              "       [1., 3.]])"
            ]
          },
          "metadata": {},
          "execution_count": 31
        }
      ],
      "source": [
        "import numpy as np\n",
        "\n",
        "A = np.array([\n",
        "    [1, 0],\n",
        "    [1, 1]\n",
        "])\n",
        "\n",
        "B = np.array([\n",
        "    [0, 1],\n",
        "    [1, 2]\n",
        "])\n",
        "\n",
        "def multiplicacao(A,B):\n",
        "    n= A.shape[0] #linhas A\n",
        "    p = A.shape[1] #colunas A\n",
        "    m = B.shape[1] #linhas B\n",
        "    C= np.zeros(shape=(n,m))\n",
        "\n",
        "    i = 0;\n",
        "    while(i<n):\n",
        "      j=0;\n",
        "      while(j<m):\n",
        "        k = 0\n",
        "        while(k<p):\n",
        "          C[i,j] = C[i,j] + A[i,k] * B[k,j]\n",
        "          k = k + 1\n",
        "        j = j + 1\n",
        "      i = i + 1\n",
        "    return C\n",
        "\n",
        "multiplicacao(A,B)    \n",
        "  "
      ]
    },
    {
      "cell_type": "markdown",
      "id": "0881bd19-5ab2-46fc-b0b8-4ec1e1b47401",
      "metadata": {
        "id": "0881bd19-5ab2-46fc-b0b8-4ec1e1b47401"
      },
      "source": [
        "# Grafos"
      ]
    },
    {
      "cell_type": "markdown",
      "id": "d478b2dd-705c-4c9f-8fe6-095f95fc6cc3",
      "metadata": {
        "id": "d478b2dd-705c-4c9f-8fe6-095f95fc6cc3"
      },
      "source": [
        "<center>\n",
        "<img src=\"fig/graph1.png\" width=\"400\" height=\"500\">\n",
        "</center>"
      ]
    },
    {
      "cell_type": "markdown",
      "id": "2f166765-11b2-4e2f-a1eb-9b9330208492",
      "metadata": {
        "id": "2f166765-11b2-4e2f-a1eb-9b9330208492"
      },
      "source": [
        "## Matriz de Adjacência"
      ]
    },
    {
      "cell_type": "markdown",
      "id": "d5306cef-16af-4037-92bd-2a0c315151a4",
      "metadata": {
        "id": "d5306cef-16af-4037-92bd-2a0c315151a4"
      },
      "source": [
        "A matriz de adjacência de um grafo representa a quantidade de caminhos de tamanho 1 do vértice i para o vértice j.\n",
        "Exemplo:\n",
        "\n",
        "Do vértice 1 para o vértice 5 existe apenas um caminho de comprimento 1, assim $a_{1,5} = 1$\n",
        "\n",
        "Do vértice 0 para o vértice 2, existem dois caminhos de comprimento 1, assim $a_{0,2} = 2$.\n",
        "\n",
        "Temos assim para o gráfo acima:"
      ]
    },
    {
      "cell_type": "code",
      "execution_count": null,
      "id": "0493e28f-e16d-4f4d-8c7b-5bba6526bc5a",
      "metadata": {
        "tags": [],
        "id": "0493e28f-e16d-4f4d-8c7b-5bba6526bc5a"
      },
      "outputs": [],
      "source": [
        "A = np.array([\n",
        "    [0, 0, 2, 0, 1, 0],\n",
        "    [0, 0, 0, 0, 1, 1],\n",
        "    [0, 0, 0, 2, 1, 0],\n",
        "    [0, 0, 0, 0, 0, 0],\n",
        "    [0, 0, 0, 0, 0, 1],\n",
        "    [1, 0, 0, 0, 0, 0]    \n",
        "])\n"
      ]
    },
    {
      "cell_type": "code",
      "execution_count": null,
      "id": "5451c2a5-7b5c-47e3-891d-f4c90c20c1f2",
      "metadata": {
        "tags": [],
        "colab": {
          "base_uri": "https://localhost:8080/"
        },
        "id": "5451c2a5-7b5c-47e3-891d-f4c90c20c1f2",
        "outputId": "4d4374f8-bd0d-43a2-c5f1-7ce47ff8dcaf"
      },
      "outputs": [
        {
          "output_type": "execute_result",
          "data": {
            "text/plain": [
              "array([[0, 0, 2, 0, 1, 0],\n",
              "       [0, 0, 0, 0, 1, 1],\n",
              "       [0, 0, 0, 2, 1, 0],\n",
              "       [0, 0, 0, 0, 0, 0],\n",
              "       [0, 0, 0, 0, 0, 1],\n",
              "       [1, 0, 0, 0, 0, 0]])"
            ]
          },
          "metadata": {},
          "execution_count": 5
        }
      ],
      "source": [
        "A"
      ]
    },
    {
      "cell_type": "markdown",
      "id": "3345a420-b97b-4bf5-85d5-1f3043207405",
      "metadata": {
        "id": "3345a420-b97b-4bf5-85d5-1f3043207405"
      },
      "source": [
        "## Exercício 2 :\n",
        " - Escreva um método que recebe \n",
        "     - Matriz de adjacência $A$ de um grafo,\n",
        "     - dois vértices $i$ e $j$, e \n",
        "     - um inteiro $n$\n",
        "     \n",
        " - Retorna o número de caminhos de comprimento $n$ de $i$ até $j$."
      ]
    },
    {
      "cell_type": "code",
      "execution_count": 41,
      "metadata": {
        "colab": {
          "base_uri": "https://localhost:8080/"
        },
        "id": "sZx35B3x5GK2",
        "outputId": "15c2a40e-39f4-4d52-cde5-05225490f13a"
      },
      "outputs": [
        {
          "output_type": "execute_result",
          "data": {
            "text/plain": [
              "1.0"
            ]
          },
          "metadata": {},
          "execution_count": 41
        }
      ],
      "source": [
        "import numpy as np\n",
        "\n",
        "B = np.array([\n",
        "    [0, 1],\n",
        "    [1, 2]\n",
        "])\n",
        "\n",
        "def multiplicacao(A,B):\n",
        "    n= A.shape[0] #linhas A\n",
        "    p = A.shape[1] #colunas A\n",
        "    m = B.shape[1] #linhas B\n",
        "    C= np.zeros(shape=(n,m))\n",
        "\n",
        "    i = 0;\n",
        "    while(i<n):\n",
        "      j=0;\n",
        "      while(j<m):\n",
        "        k = 0\n",
        "        while(k<p):\n",
        "          C[i,j] = C[i,j] + A[i,k] * B[k,j]\n",
        "          k = k + 1\n",
        "        j = j + 1\n",
        "      i = i + 1\n",
        "    return C  \n",
        "\n",
        "def numero_caminhos(B, i, j, n):\n",
        "  C = B\n",
        "  k=1\n",
        "  while(k<n):\n",
        "    C = multiplicacao(B,C)  \n",
        "    k = k+1\n",
        "  return C[i,j]\n",
        "\n",
        "numero_caminhos(B, 0, 0, 2)\n"
      ],
      "id": "sZx35B3x5GK2"
    },
    {
      "cell_type": "markdown",
      "id": "209b3aa5-6eb5-4f0c-ab4b-682e6d012048",
      "metadata": {
        "id": "209b3aa5-6eb5-4f0c-ab4b-682e6d012048"
      },
      "source": [
        "# Grafos - Projeto\n",
        "- Criar um modelo simples de rank de páginas"
      ]
    },
    {
      "cell_type": "markdown",
      "id": "0b2ab1a1-66c7-4475-84a7-1d193e31eac0",
      "metadata": {
        "id": "0b2ab1a1-66c7-4475-84a7-1d193e31eac0"
      },
      "source": [
        "Considere um grafo representando um conjunto de páginas da web (1000 páginas) e suas respectivas conexões.\n",
        "Vamos representar esse gráfico pela matriz de adjacencia:\n",
        "    "
      ]
    },
    {
      "cell_type": "code",
      "execution_count": null,
      "id": "bb06edd1-5ceb-415a-abc0-71d61382cdda",
      "metadata": {
        "id": "bb06edd1-5ceb-415a-abc0-71d61382cdda"
      },
      "outputs": [],
      "source": [
        "# Exemplo com 10 páginas\n",
        "A = create_random_adj(10)"
      ]
    },
    {
      "cell_type": "code",
      "execution_count": null,
      "id": "8b71379f-82a7-40a5-9dea-a9dba36cbf9a",
      "metadata": {
        "id": "8b71379f-82a7-40a5-9dea-a9dba36cbf9a",
        "outputId": "acb2de2b-901b-41c3-faec-9499cf57564c"
      },
      "outputs": [
        {
          "data": {
            "image/png": "[encoded data removed]",
            "text/plain": [
              "<Figure size 432x288 with 1 Axes>"
            ]
          },
          "metadata": {},
          "output_type": "display_data"
        }
      ],
      "source": [
        "show_grafo(A)"
      ]
    },
    {
      "cell_type": "markdown",
      "id": "b19bef4b-b13a-4714-b7af-f814337e62aa",
      "metadata": {
        "id": "b19bef4b-b13a-4714-b7af-f814337e62aa"
      },
      "source": [
        "# Instruções\n",
        "\n",
        "- Objetivo: Criar um classificador simples de páginas\n",
        "        - Crie um método que recebe uma matriz de adjacencia (representando páginas e links entre elas)\n",
        "        - Recebe um parâmetro n\n",
        "        - Recebe um parâmetro m\n",
        "        - Retorna os top m páginas que possuem mais referências (maior número de caminhos de tamanho 1, 2, 3....n que chegam até eles).\n",
        "- Observações: Usar o menor número possível de recursos da linguagem. Exemplo: Produto de matrizes - usar a função contruída acima (o numpy nativamente possui multiplicaçao de matrizes, ordenação entre outras funções built-in - Mas a idéia é trabalhar com os recursos que aprendemos até o momento.)\n",
        "                "
      ]
    },
    {
      "cell_type": "code",
      "execution_count": null,
      "id": "71e4d3f7-9a18-4150-8d6f-4220846aa7b6",
      "metadata": {
        "id": "71e4d3f7-9a18-4150-8d6f-4220846aa7b6"
      },
      "outputs": [],
      "source": [
        "# Matriz de exemplo para a implementação.\n",
        "\n",
        "A = create_random_adj(1000)"
      ]
    },
    {
      "cell_type": "code",
      "execution_count": 43,
      "id": "4032164e-08c9-4c82-b7f9-e8971c214cf2",
      "metadata": {
        "id": "4032164e-08c9-4c82-b7f9-e8971c214cf2",
        "colab": {
          "base_uri": "https://localhost:8080/"
        },
        "outputId": "ee081f36-a9e1-487f-ce4e-1bbdcedd4b5b"
      },
      "outputs": [
        {
          "output_type": "execute_result",
          "data": {
            "text/plain": [
              "[array([1, 3]), array([1, 3])]"
            ]
          },
          "metadata": {},
          "execution_count": 43
        }
      ],
      "source": [
        "import numpy as np\n",
        "\n",
        "A = np.array([\n",
        "    [0, 1],\n",
        "    [1, 2]\n",
        "])\n",
        "\n",
        "\n",
        "def multiplicacao(A,B):\n",
        "    n= A.shape[0] #linhas A\n",
        "    p = A.shape[1] #colunas A\n",
        "    m = B.shape[1] #linhas B\n",
        "    C= np.zeros(shape=(n,m))\n",
        "\n",
        "    i = 0;\n",
        "    while(i<n):\n",
        "      j=0;\n",
        "      while(j<m):\n",
        "        k = 0\n",
        "        while(k<p):\n",
        "          C[i,j] = C[i,j] + A[i,k] * B[k,j]\n",
        "          k = k + 1\n",
        "        j = j + 1\n",
        "      i = i + 1\n",
        "    return C \n",
        "\n",
        "\n",
        "def Rank_paginas(A, n, m):\n",
        "\n",
        "  B = A \n",
        "  somaCol = B.sum(axis=0)\n",
        "  i = 1\n",
        "  while(i<n):\n",
        "    B = multiplicacao(A,A)\n",
        "    somaCol = somaCol + B.sum(axis=0)\n",
        "    i = i+1\n",
        "\n",
        "  ordemVet = somaCol.argsort()[::-1]\n",
        "\n",
        "  return ordemVet[:m]\n",
        "\n",
        "Rank_paginas(A, 2, 2)"
      ]
    },
    {
      "cell_type": "markdown",
      "id": "7cac0593-7edc-47f1-bb67-be0d81c6d8b9",
      "metadata": {
        "id": "7cac0593-7edc-47f1-bb67-be0d81c6d8b9"
      },
      "source": [
        "Referências:\n",
        "- https://graphonline.ru/en/\n",
        "- http://mxwell.github.io/draw-graph/"
      ]
    }
  ],
  "metadata": {
    "kernelspec": {
      "display_name": "Python 3 (ipykernel)",
      "language": "python",
      "name": "python3"
    },
    "language_info": {
      "codemirror_mode": {
        "name": "ipython",
        "version": 3
      },
      "file_extension": ".py",
      "mimetype": "text/x-python",
      "name": "python",
      "nbconvert_exporter": "python",
      "pygments_lexer": "ipython3",
      "version": "3.8.10"
    },
    "colab": {
      "provenance": [],
      "include_colab_link": true
    }
  },
  "nbformat": 4,
  "nbformat_minor": 5
}