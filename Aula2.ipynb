{
  "nbformat": 4,
  "nbformat_minor": 0,
  "metadata": {
    "colab": {
      "provenance": [],
      "include_colab_link": true
    },
    "kernelspec": {
      "name": "python3",
      "display_name": "Python 3"
    },
    "language_info": {
      "name": "python"
    }
  },
  "cells": [
    {
      "cell_type": "markdown",
      "metadata": {
        "id": "view-in-github",
        "colab_type": "text"
      },
      "source": [
        "<a href=\"https://colab.research.google.com/github/NicolyAvelino/algebraLinear/blob/main/Aula2.ipynb\" target=\"_parent\"><img src=\"https://colab.research.google.com/assets/colab-badge.svg\" alt=\"Open In Colab\"/></a>"
      ]
    },
    {
      "cell_type": "markdown",
      "source": [
        "# Aula 2 - Matrizes"
      ],
      "metadata": {
        "id": "GHElD0TNO_cH"
      }
    },
    {
      "cell_type": "markdown",
      "source": [
        "## Matrizes - Simples\n",
        "\n",
        "Nesta parte, vamos usar a estrutura simples de listas para trabalhar com matrizes. Depois veremos que podemos usar uma biblioteca para trabalhar de forma mais apropriada com matrizes"
      ],
      "metadata": {
        "id": "pO9XdNBCQkrN"
      }
    },
    {
      "cell_type": "markdown",
      "source": [
        "Podemos pensar em uma lista como um vetor unidimensional. Parecido com o $\\mathbb{R}^n$ que estudamos em aula"
      ],
      "metadata": {
        "id": "yt6fDFOjQ4ad"
      }
    },
    {
      "cell_type": "code",
      "source": [
        "a = [1, 3,5,-2,5]\n",
        "a"
      ],
      "metadata": {
        "colab": {
          "base_uri": "https://localhost:8080/"
        },
        "id": "ZrgOUESMQman",
        "outputId": "08035f2c-3315-49ba-c542-137a4d50a4b8"
      },
      "execution_count": null,
      "outputs": [
        {
          "output_type": "execute_result",
          "data": {
            "text/plain": [
              "[1, 3, 5, -2, 5]"
            ]
          },
          "metadata": {},
          "execution_count": 15
        }
      ]
    },
    {
      "cell_type": "code",
      "source": [
        "type(a)"
      ],
      "metadata": {
        "colab": {
          "base_uri": "https://localhost:8080/"
        },
        "id": "sFyHJz8KRHXm",
        "outputId": "9a35c37f-f389-4b4b-b6ae-2a343a627c66"
      },
      "execution_count": null,
      "outputs": [
        {
          "output_type": "execute_result",
          "data": {
            "text/plain": [
              "list"
            ]
          },
          "metadata": {},
          "execution_count": 16
        }
      ]
    },
    {
      "cell_type": "code",
      "source": [
        "# Primeiro elemento de a\n",
        "a[0]"
      ],
      "metadata": {
        "colab": {
          "base_uri": "https://localhost:8080/"
        },
        "id": "K2iyjNWWRIdl",
        "outputId": "e0b308fa-adfe-43ac-88a5-7c5f466e8ed6"
      },
      "execution_count": null,
      "outputs": [
        {
          "output_type": "execute_result",
          "data": {
            "text/plain": [
              "1"
            ]
          },
          "metadata": {},
          "execution_count": 17
        }
      ]
    },
    {
      "cell_type": "code",
      "source": [
        "# Último elemento de a\n",
        "a[4]"
      ],
      "metadata": {
        "colab": {
          "base_uri": "https://localhost:8080/"
        },
        "id": "-lz6gfXVRI5d",
        "outputId": "cdfa69ad-7f49-4540-99d0-3e6e5498c4f8"
      },
      "execution_count": null,
      "outputs": [
        {
          "output_type": "execute_result",
          "data": {
            "text/plain": [
              "5"
            ]
          },
          "metadata": {},
          "execution_count": 18
        }
      ]
    },
    {
      "cell_type": "markdown",
      "source": [
        "Exercício: Efetue a soma do segundo elemento de a e o quarto elemento."
      ],
      "metadata": {
        "id": "ukN8HLM-RjU6"
      }
    },
    {
      "cell_type": "code",
      "source": [
        "a = [1, 3,5,-2,5]\n",
        "\n",
        "x = a[1] + a[3]\n",
        "print(x)"
      ],
      "metadata": {
        "colab": {
          "base_uri": "https://localhost:8080/"
        },
        "id": "W1nGNhhty6b8",
        "outputId": "a815bb4a-3182-4d9a-ba81-9bf1986c5743"
      },
      "execution_count": 9,
      "outputs": [
        {
          "output_type": "stream",
          "name": "stdout",
          "text": [
            "1\n"
          ]
        }
      ]
    },
    {
      "cell_type": "code",
      "source": [
        "# Tamanho da lista\n",
        "len(a)"
      ],
      "metadata": {
        "colab": {
          "base_uri": "https://localhost:8080/"
        },
        "id": "JKG9E2a2RJGL",
        "outputId": "0a9d9f28-425f-49e1-bea6-3e01a7ddbb22"
      },
      "execution_count": null,
      "outputs": [
        {
          "output_type": "execute_result",
          "data": {
            "text/plain": [
              "5"
            ]
          },
          "metadata": {},
          "execution_count": 19
        }
      ]
    },
    {
      "cell_type": "code",
      "source": [
        "# Exemplo: Soma de vetores\n",
        "# Considere\n",
        "a = [2,6,7]\n",
        "b = [4,5,6]\n",
        "\n",
        "# Definimos o vetor soma, primeiramente como uma lista vazia\n",
        "c = []\n",
        "# e vamos adicionando os respectivos elementos:\n",
        "i = 0\n",
        "while(i<len(a)):\n",
        "  c.append(a[i]+b[i])\n",
        "  i = i+1"
      ],
      "metadata": {
        "id": "xtNIhRz2SPjx"
      },
      "execution_count": null,
      "outputs": []
    },
    {
      "cell_type": "code",
      "source": [
        "c"
      ],
      "metadata": {
        "colab": {
          "base_uri": "https://localhost:8080/"
        },
        "id": "JIWXvg9OSPn1",
        "outputId": "80b9ec14-6a06-4ba3-b0a0-8c2d3b1f0d49"
      },
      "execution_count": null,
      "outputs": [
        {
          "output_type": "execute_result",
          "data": {
            "text/plain": [
              "[6, 11, 13]"
            ]
          },
          "metadata": {},
          "execution_count": 27
        }
      ]
    },
    {
      "cell_type": "markdown",
      "source": [
        "Exercício: Multiplicação por escalar.\n",
        "- Solicite ao usuário que digite o valor de n (o tamanho do vetor)\n",
        "- Solicite ao usuário que digite os valores do vetor\n",
        "- Solicite ao usuário o valor do escalar.\n",
        "- Imprima o vetor resultante"
      ],
      "metadata": {
        "id": "0HHRNpP7UzF6"
      }
    },
    {
      "cell_type": "code",
      "source": [
        "tamanhoVet = int(input('declare o tamanho que deseja para o vetor: '))\n",
        "\n",
        "# vetA = [1, 2, 3]\n",
        "vetA = []\n",
        "i = 0\n",
        "while(i< tamanhoVet):\n",
        "  vetA.append(int(input('declare o valor: ')))\n",
        "  i = i+1\n",
        "\n",
        "valorEsc = int(input(\"declare o valor escalar: \"))\n",
        "i = 0\n",
        "while(i<len(vetA)):\n",
        "  vetA[i]= vetA[i] * valorEsc \n",
        "  i = i+1\n",
        "print(vetA)  \n"
      ],
      "metadata": {
        "colab": {
          "base_uri": "https://localhost:8080/"
        },
        "id": "zx3jGt9Nvl2y",
        "outputId": "2e8089f3-5205-4f04-d264-d4627ed62151"
      },
      "execution_count": 26,
      "outputs": [
        {
          "output_type": "stream",
          "name": "stdout",
          "text": [
            "declare o tamanho que deseja para o vetor: 3\n",
            "declare o valor: 1\n",
            "declare o valor: 2\n",
            "declare o valor: 3\n",
            "declare o valor escalar: 2\n",
            "[2, 4, 6]\n"
          ]
        }
      ]
    },
    {
      "cell_type": "code",
      "source": [
        "# Matrizes\n",
        "# Podemos pensar em uma matriz como uma lista de listas. Por exemplo"
      ],
      "metadata": {
        "id": "jtlTE_VjSPvs"
      },
      "execution_count": null,
      "outputs": []
    },
    {
      "cell_type": "code",
      "source": [
        "A = [[2,3,4],\n",
        "     [3,-1,0]]"
      ],
      "metadata": {
        "id": "IzlovqKVV7rO"
      },
      "execution_count": null,
      "outputs": []
    },
    {
      "cell_type": "code",
      "source": [
        "A"
      ],
      "metadata": {
        "colab": {
          "base_uri": "https://localhost:8080/"
        },
        "id": "gYB1lYJEV8PJ",
        "outputId": "6108adfa-95b0-4679-8213-7d17a0e931d7"
      },
      "execution_count": null,
      "outputs": [
        {
          "output_type": "execute_result",
          "data": {
            "text/plain": [
              "[[2, 3, 4], [3, -1, 0]]"
            ]
          },
          "metadata": {},
          "execution_count": 34
        }
      ]
    },
    {
      "cell_type": "markdown",
      "source": [
        "# Matrizes - Numpy"
      ],
      "metadata": {
        "id": "-HVbokfJYPt2"
      }
    },
    {
      "cell_type": "markdown",
      "source": [
        "## Bibliotecas.\n",
        "\n",
        "No Python, existem milhares de bibliotecas (que são scripts) que auxiliam no desenvolvimento de códigos. Vamos trabalhar agora com a biblioteca numpy, \n",
        "que funciona como um espécie de calculadora."
      ],
      "metadata": {
        "id": "kq3EqvZkPlFh"
      }
    },
    {
      "cell_type": "code",
      "source": [
        "import numpy as np\n",
        "# import   - Padrão para a importação de bibliotecas.\n",
        "# numpy    - Nome da biblioteca que estamos importando.\n",
        "# as np    - Apelido ou abreviação que damos a biblioteca, para não ter que escrever numpy. Assim, podemos usar a abreviação np"
      ],
      "metadata": {
        "id": "8ifNX4BgV67y"
      },
      "execution_count": null,
      "outputs": []
    },
    {
      "cell_type": "code",
      "source": [
        "# Parecido com as listas, mas com maiores recursos, temos as arrays.\n",
        "# Exemplo:\n",
        "\n",
        "a = np.array([2, 4,5])"
      ],
      "metadata": {
        "id": "LkY8vD5hPg3G"
      },
      "execution_count": null,
      "outputs": []
    },
    {
      "cell_type": "code",
      "source": [
        "a"
      ],
      "metadata": {
        "colab": {
          "base_uri": "https://localhost:8080/"
        },
        "id": "Lo5vNlMjQE4N",
        "outputId": "be43c81d-9a45-4c7a-a379-d9c64d4e9295"
      },
      "execution_count": null,
      "outputs": [
        {
          "output_type": "execute_result",
          "data": {
            "text/plain": [
              "array([2, 4, 5])"
            ]
          },
          "metadata": {},
          "execution_count": 37
        }
      ]
    },
    {
      "cell_type": "code",
      "source": [
        "type(a)"
      ],
      "metadata": {
        "colab": {
          "base_uri": "https://localhost:8080/"
        },
        "id": "Y2-HSsaaW2qt",
        "outputId": "99759cf2-67fd-4d9e-8fd5-d8071b6a4ef3"
      },
      "execution_count": null,
      "outputs": [
        {
          "output_type": "execute_result",
          "data": {
            "text/plain": [
              "numpy.ndarray"
            ]
          },
          "metadata": {},
          "execution_count": 38
        }
      ]
    },
    {
      "cell_type": "code",
      "source": [
        "# Podemos definir arrays bidimensionais\n",
        "A = np.array([\n",
        "    [1,2,4],\n",
        "    [3,4,5]\n",
        "])"
      ],
      "metadata": {
        "id": "eNbaSSTBW4IQ"
      },
      "execution_count": null,
      "outputs": []
    },
    {
      "cell_type": "code",
      "source": [
        "A"
      ],
      "metadata": {
        "colab": {
          "base_uri": "https://localhost:8080/"
        },
        "id": "IizvpvgBXAMH",
        "outputId": "37be8278-0e84-4085-f97b-70be57aeed74"
      },
      "execution_count": null,
      "outputs": [
        {
          "output_type": "execute_result",
          "data": {
            "text/plain": [
              "array([[1, 2, 4],\n",
              "       [3, 4, 5]])"
            ]
          },
          "metadata": {},
          "execution_count": 40
        }
      ]
    },
    {
      "cell_type": "code",
      "source": [
        "# Dimensão do array\n",
        "A.shape"
      ],
      "metadata": {
        "colab": {
          "base_uri": "https://localhost:8080/"
        },
        "id": "4u53URm5XAqw",
        "outputId": "d31156f7-3922-46e8-9950-04e9adec9397"
      },
      "execution_count": null,
      "outputs": [
        {
          "output_type": "execute_result",
          "data": {
            "text/plain": [
              "(2, 3)"
            ]
          },
          "metadata": {},
          "execution_count": 47
        }
      ]
    },
    {
      "cell_type": "code",
      "source": [
        "# Considerando uma célula em específico. Ex Cédula na segunda linha e terceira coluna\n",
        "A[1,2]\n"
      ],
      "metadata": {
        "colab": {
          "base_uri": "https://localhost:8080/"
        },
        "id": "JeCEGQu8XKFl",
        "outputId": "0b70ee79-5d74-4a3e-dfb8-395ce1014b5f"
      },
      "execution_count": null,
      "outputs": [
        {
          "output_type": "execute_result",
          "data": {
            "text/plain": [
              "5"
            ]
          },
          "metadata": {},
          "execution_count": 48
        }
      ]
    },
    {
      "cell_type": "code",
      "source": [
        "# Criando uma matriz com dada dimensão, mas vazia: Ex matriz de ordem 2x3\n",
        "B = np.empty(shape=(2,3))"
      ],
      "metadata": {
        "id": "KONOnaMaYgw1"
      },
      "execution_count": null,
      "outputs": []
    },
    {
      "cell_type": "code",
      "source": [
        "B"
      ],
      "metadata": {
        "colab": {
          "base_uri": "https://localhost:8080/"
        },
        "id": "wVpQ6oVrZfrk",
        "outputId": "890bb617-5270-4894-8b11-2cec38199676"
      },
      "execution_count": null,
      "outputs": [
        {
          "output_type": "execute_result",
          "data": {
            "text/plain": [
              "array([[2., 0., 0.],\n",
              "       [0., 0., 0.]])"
            ]
          },
          "metadata": {},
          "execution_count": 58
        }
      ]
    },
    {
      "cell_type": "markdown",
      "source": [
        "Exercício: Considere duas matrizes A e B e um número real $\\lambda$\n",
        "\n",
        "Soma\n",
        "\n",
        "- Verificar se possuem a mesma dimensão\n",
        "- Em caso afirmativo, realize a soma dessas matrizes\n",
        "\n",
        "Multiplicação por escalar\n",
        "\n",
        "- Realizar a multiplicação do escalar e a matriz"
      ],
      "metadata": {
        "id": "v5XQZcdOYzJ9"
      }
    },
    {
      "cell_type": "code",
      "source": [
        "# Pode considerar como exemplo as matrizes A e B abaixo e o número real c"
      ],
      "metadata": {
        "id": "itYvylUra3_e"
      },
      "execution_count": null,
      "outputs": []
    },
    {
      "cell_type": "code",
      "source": [
        "A = np.array([[2,-4,5,4],\n",
        "              [3,0,1,5],\n",
        "              [0,-1,0.4,4]])\n",
        "A"
      ],
      "metadata": {
        "colab": {
          "base_uri": "https://localhost:8080/"
        },
        "id": "5lR8pktKZ-er",
        "outputId": "12d12837-5dd3-4607-d6b3-f44ebd0f6834"
      },
      "execution_count": null,
      "outputs": [
        {
          "output_type": "execute_result",
          "data": {
            "text/plain": [
              "array([[ 2. , -4. ,  5. ,  4. ],\n",
              "       [ 3. ,  0. ,  1. ,  5. ],\n",
              "       [ 0. , -1. ,  0.4,  4. ]])"
            ]
          },
          "metadata": {},
          "execution_count": 65
        }
      ]
    },
    {
      "cell_type": "code",
      "source": [
        "B = np.array([[1,1,5.2,4],\n",
        "              [1,1,1,2],\n",
        "              [2,-1.5,2,2]])\n",
        "B"
      ],
      "metadata": {
        "colab": {
          "base_uri": "https://localhost:8080/"
        },
        "id": "d9HUCWoJanyd",
        "outputId": "b21d5a35-d495-4970-8303-9e2c91a2d083"
      },
      "execution_count": null,
      "outputs": [
        {
          "output_type": "execute_result",
          "data": {
            "text/plain": [
              "array([[ 1. ,  1. ,  5.2,  4. ],\n",
              "       [ 1. ,  1. ,  1. ,  2. ],\n",
              "       [ 2. , -1.5,  2. ,  2. ]])"
            ]
          },
          "metadata": {},
          "execution_count": 66
        }
      ]
    },
    {
      "cell_type": "code",
      "source": [
        "c = 3.5"
      ],
      "metadata": {
        "id": "QJLiZLF_aqXk"
      },
      "execution_count": null,
      "outputs": []
    },
    {
      "cell_type": "code",
      "source": [
        "import numpy as np\n",
        "\n",
        "A = np.array([[2,-4,5,4],\n",
        "              [3,0,1,5],\n",
        "              [0,-1,0.4,4]])\n",
        "\n",
        "B = np.array([[1,1,5.2,4],\n",
        "              [1,1,1,2],\n",
        "              [2,-1.5,2,2]])\n",
        "\n",
        "if A.shape == B.shape:\n",
        "  print('mesma dimencao')\n",
        "  C = np.empty(shape=(3,4))\n",
        "\n",
        "  linhas = A.shape[0]\n",
        "  colunas = A.shape[1]\n",
        "\n",
        "  i =0\n",
        "  j = 0\n",
        "  while(i<linhas):\n",
        "    while(j<colunas):\n",
        "      C[i,j] = A[i,j]+ B[i,j] \n",
        "      j = j + 1\n",
        "    i = i + 1\n",
        "  print(C)\n",
        "\n",
        "  print(\"\")\n",
        "\n",
        "  linhas = A.shape[0]\n",
        "  colunas = A.shape[1]\n",
        "\n",
        "  i =0\n",
        "  j = 0\n",
        "  while(i<linhas):\n",
        "    while(j<colunas):\n",
        "      C[i,j] = C[i,j] * 3.5\n",
        "      j = j + 1\n",
        "    i = i + 1\n",
        "  print(C)\n",
        "\n",
        "\n",
        "\n",
        "  # for i in range(linhas):\n",
        "  #   for j in range(colunas):\n",
        "  #       C[i,j] = A[i,j]+ B[i,j] \n",
        "  # print(C)\n",
        "\n",
        "else:\n",
        "  print('diferentes dimencao')  \n",
        "\n",
        "\n",
        "# C[0,0] = A[0,0] + B[0,0]\n",
        "\n",
        "\n",
        "\n"
      ],
      "metadata": {
        "colab": {
          "base_uri": "https://localhost:8080/"
        },
        "id": "f_9Kj-LUDavt",
        "outputId": "07e527ae-5a59-4a12-ecea-55267133f2f2"
      },
      "execution_count": 36,
      "outputs": [
        {
          "output_type": "stream",
          "name": "stdout",
          "text": [
            "mesma dimencao\n",
            "[[ 3.  -3.  10.2  8. ]\n",
            " [ 3.   0.   1.   5. ]\n",
            " [ 0.  -1.   0.4  4. ]]\n",
            "\n",
            "[[ 10.5 -10.5  35.7  28. ]\n",
            " [  3.    0.    1.    5. ]\n",
            " [  0.   -1.    0.4   4. ]]\n"
          ]
        }
      ]
    },
    {
      "cell_type": "markdown",
      "source": [
        "## Funções (ou métodos) no Python.\n",
        "\n",
        "Muitas vezes, queremos usar um mesmo trecho de código repetidas vezes, trocando apenas os valores das variáveis. Por exemplo, gostariamos de somar outras matrizes, diferentes do exemplo acima. Para isso, poderíamos compilar novamente a parte do código acima, com valores diferentes das matrizes A e B.\n",
        "\n",
        "No entanto, podemos utilizar funções.\n",
        "\n",
        "Exemplo de função no Python:"
      ],
      "metadata": {
        "id": "yzoE8aiXe18A"
      }
    },
    {
      "cell_type": "code",
      "source": [
        "def soma_1(a):\n",
        "  c = a+ 1\n",
        "  return c"
      ],
      "metadata": {
        "id": "tB2T0x_Aa9xF"
      },
      "execution_count": null,
      "outputs": []
    },
    {
      "cell_type": "code",
      "source": [
        "soma_1(10)"
      ],
      "metadata": {
        "colab": {
          "base_uri": "https://localhost:8080/"
        },
        "id": "quMr1tcufkFB",
        "outputId": "ee8a3f9c-94ae-42af-c63c-210eda71122e"
      },
      "execution_count": null,
      "outputs": [
        {
          "output_type": "execute_result",
          "data": {
            "text/plain": [
              "11"
            ]
          },
          "metadata": {},
          "execution_count": 69
        }
      ]
    },
    {
      "cell_type": "markdown",
      "source": [
        "Exercícios:\n",
        "- Crie uma função que realiza a soma de duas matrizes\n",
        "- Crie uma função que realiza a multiplicação de um escalar por uma matriz"
      ],
      "metadata": {
        "id": "k6V7b7l9fslm"
      }
    },
    {
      "cell_type": "code",
      "source": [
        "A = np.array([[2,-4,5,4],\n",
        "              [3,0,1,5],\n",
        "              [0,-1,0.4,4]])\n",
        "\n",
        "B = np.array([[1,1,5.2,4],\n",
        "              [1,1,1,2],\n",
        "              [2,-1.5,2,2]])\n",
        "\n",
        "if A.shape == B.shape:\n",
        "  print('mesma dimencao')\n",
        "  C = np.empty(shape=(3,4))\n",
        "\n",
        "  linhas = A.shape[0]\n",
        "  colunas = A.shape[1]\n",
        "\n",
        "  i =0\n",
        "  j = 0\n",
        "  while(i<linhas):\n",
        "    while(j<colunas):\n",
        "      C[i,j] = A[i,j]+ B[i,j] \n",
        "      j = j + 1\n",
        "    i = i + 1\n",
        "  print(C)\n",
        "\n",
        "  print(\"\")\n",
        "\n",
        "  linhas = A.shape[0]\n",
        "  colunas = A.shape[1]\n",
        "\n",
        "  i =0\n",
        "  j = 0\n",
        "  while(i<linhas):\n",
        "    while(j<colunas):\n",
        "      C[i,j] = C[i,j] * 3.5\n",
        "      j = j + 1\n",
        "    i = i + 1\n",
        "  print(C)\n",
        "\n",
        "\n",
        "\n",
        "  # for i in range(linhas):\n",
        "  #   for j in range(colunas):\n",
        "  #       C[i,j] = A[i,j]+ B[i,j] \n",
        "  # print(C)\n",
        "\n",
        "else:\n",
        "  print('diferentes dimencao')  "
      ],
      "metadata": {
        "id": "sLVxS2fEKlkC"
      },
      "execution_count": null,
      "outputs": []
    },
    {
      "cell_type": "markdown",
      "source": [
        "## Outras operações com matrizes"
      ],
      "metadata": {
        "id": "ikxz3NnQdkF4"
      }
    },
    {
      "cell_type": "markdown",
      "source": [
        "### Determinante.\n",
        "\n",
        "Dada uma matriz  \n",
        "$$A = \n",
        "\\begin{pmatrix}\n",
        "a_{1,1} & a_{1,2}\\\\\n",
        "a_{2,1} & a_{2,2}\n",
        "\\end{pmatrix}$$\n",
        "Definimos o determinante de $A$ por\n",
        "$$det(A) = a_{1,1}a_{2,2}- a_{1,2}a_{2,1}$$"
      ],
      "metadata": {
        "id": "8qnm5d_sdpI1"
      }
    },
    {
      "cell_type": "markdown",
      "source": [
        "Exercício: \n",
        "- Crie uma função que calcula o determinante de uma matriz 2x2\n",
        "- Crie uma função que calcula o determinante de uma matriz 3x3\n",
        "$$A = \n",
        "\\begin{pmatrix}\n",
        "a_{1,1} & a_{1,2} & a_{1,2}\\\\\n",
        "a_{2,1} & a_{2,2} & a_{2,3}\\\\\n",
        "a_{3,1} & a_{3,2} & a_{3,3}\\\\\n",
        "\\end{pmatrix}$$\n",
        "Definimos o determinante de $A$ por\n",
        "$$det(A) = a_{1,1}a_{2,2}a_{3,3} + a_{1,2}a_{2,3}a_{3,1} + a_{1,2}a_{2,1}a_{3,2}- a_{1,2}a_{2,2}a_{3,1} - a_{3,2}a_{2,3}a_{1,1} - a_{3,3}a_{2,1}a_{1,2}$$"
      ],
      "metadata": {
        "id": "SsY36q-Zf7nU"
      }
    },
    {
      "cell_type": "markdown",
      "source": [
        "## Multiplicação de Matrizes\n",
        "\n",
        "Dados duas matrizes $A = (a_{i,j})$ de dimensão $n\\times p$ e $B = (b_{i,j})$ de dimensão $p\\times m$, o produto de $A$ por $B$ é a matriz $C = (c_{i,j})$ de dimensão $n\\times m$ tal que\n",
        "$$c_{i,j} = \\sum_{k=1}^p a_{i,k}b_{k, j}$$"
      ],
      "metadata": {
        "id": "BHT5_Cj-0DWc"
      }
    },
    {
      "cell_type": "markdown",
      "source": [
        "Exercício: Construa uma função que recebe duas matrizes $A$ e $B$ e retorna o produto $A\\times B$."
      ],
      "metadata": {
        "id": "dDivM4du0qoi"
      }
    }
  ]
}